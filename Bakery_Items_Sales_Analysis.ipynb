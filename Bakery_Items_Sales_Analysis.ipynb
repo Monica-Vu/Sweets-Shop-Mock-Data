{
 "cells": [
  {
   "cell_type": "markdown",
   "metadata": {},
   "source": [
    "## Clean up the Data"
   ]
  },
  {
   "cell_type": "code",
   "execution_count": null,
   "metadata": {},
   "outputs": [],
   "source": [
    "Questions:\n",
    "1. Which month has the highest profit? What about the lowest? What are the profits of each month? How can we find ways to increase earnings? Give your reasoning.  \n",
    "2. How much gross earnings did the store make in 2020?\n",
    "3. Which flavour is the most popular in the overall store?\n",
    "4. What is the most popular item in the store? Give an explanation to why.\n",
    "5. What are the two most popular combinations in the store? \n",
    "6. It seems like we forgot to add a column called “Actual Cost.” This is how much it costs to make a product. Let’s assume it’s around 10% per product.\n",
    "7. Find the profits of the store."
   ]
  },
  {
   "cell_type": "code",
   "execution_count": null,
   "metadata": {},
   "outputs": [],
   "source": []
  },
  {
   "cell_type": "code",
   "execution_count": null,
   "metadata": {},
   "outputs": [],
   "source": []
  },
  {
   "cell_type": "code",
   "execution_count": null,
   "metadata": {},
   "outputs": [],
   "source": []
  },
  {
   "cell_type": "markdown",
   "metadata": {},
   "source": [
    "## 1. Which month has the highest profit? What about the lowest? What are the profits of each month? "
   ]
  },
  {
   "cell_type": "markdown",
   "metadata": {},
   "source": [
    "### Right now, our sales data is seperate into 12 csv (to represent the 12 months). So let's first combine it. "
   ]
  },
  {
   "cell_type": "code",
   "execution_count": 3,
   "metadata": {},
   "outputs": [],
   "source": [
    "import pandas as pd\n",
    "import glob"
   ]
  },
  {
   "cell_type": "code",
   "execution_count": 4,
   "metadata": {},
   "outputs": [],
   "source": [
    "# get all files in the following folder \n",
    "files = [file for file in glob.glob('./sales_data/*.csv')]\n",
    "all_months_data = pd.DataFrame()\n",
    "\n",
    "for file in files:\n",
    "    df = pd.read_csv(file, index_col=None, header=0)\n",
    "    all_months_data = pd.concat([all_months_data, df]) \n",
    "\n",
    "all_months_data.to_csv(\"2020_bakery_sales.csv\", index=False)"
   ]
  },
  {
   "cell_type": "code",
   "execution_count": 5,
   "metadata": {},
   "outputs": [
    {
     "data": {
      "text/html": [
       "<div>\n",
       "<style scoped>\n",
       "    .dataframe tbody tr th:only-of-type {\n",
       "        vertical-align: middle;\n",
       "    }\n",
       "\n",
       "    .dataframe tbody tr th {\n",
       "        vertical-align: top;\n",
       "    }\n",
       "\n",
       "    .dataframe thead th {\n",
       "        text-align: right;\n",
       "    }\n",
       "</style>\n",
       "<table border=\"1\" class=\"dataframe\">\n",
       "  <thead>\n",
       "    <tr style=\"text-align: right;\">\n",
       "      <th></th>\n",
       "      <th>Order ID</th>\n",
       "      <th>Product</th>\n",
       "      <th>Quantity Ordered</th>\n",
       "      <th>Price Each</th>\n",
       "      <th>Order Date</th>\n",
       "    </tr>\n",
       "  </thead>\n",
       "  <tbody>\n",
       "    <tr>\n",
       "      <th>0</th>\n",
       "      <td>19923</td>\n",
       "      <td>Dalgona Coffee (Original - Hot)</td>\n",
       "      <td>4</td>\n",
       "      <td>2.75</td>\n",
       "      <td>02/18/20 12:14</td>\n",
       "    </tr>\n",
       "    <tr>\n",
       "      <th>1</th>\n",
       "      <td>19924</td>\n",
       "      <td>Macaroon (Earl Grey)</td>\n",
       "      <td>1</td>\n",
       "      <td>3.00</td>\n",
       "      <td>02/10/20 12:27</td>\n",
       "    </tr>\n",
       "    <tr>\n",
       "      <th>2</th>\n",
       "      <td>19924</td>\n",
       "      <td>Tea (Earl Grey)</td>\n",
       "      <td>1</td>\n",
       "      <td>1.75</td>\n",
       "      <td>02/10/20 12:27</td>\n",
       "    </tr>\n",
       "    <tr>\n",
       "      <th>3</th>\n",
       "      <td>19925</td>\n",
       "      <td>Macaroon (Chocolate)</td>\n",
       "      <td>4</td>\n",
       "      <td>2.75</td>\n",
       "      <td>02/28/20 12:32</td>\n",
       "    </tr>\n",
       "    <tr>\n",
       "      <th>4</th>\n",
       "      <td>19926</td>\n",
       "      <td>Macaroon (Vanilla)</td>\n",
       "      <td>3</td>\n",
       "      <td>2.75</td>\n",
       "      <td>02/16/20 12:21</td>\n",
       "    </tr>\n",
       "  </tbody>\n",
       "</table>\n",
       "</div>"
      ],
      "text/plain": [
       "   Order ID                          Product  Quantity Ordered  Price Each  \\\n",
       "0     19923  Dalgona Coffee (Original - Hot)                 4        2.75   \n",
       "1     19924             Macaroon (Earl Grey)                 1        3.00   \n",
       "2     19924                  Tea (Earl Grey)                 1        1.75   \n",
       "3     19925             Macaroon (Chocolate)                 4        2.75   \n",
       "4     19926               Macaroon (Vanilla)                 3        2.75   \n",
       "\n",
       "       Order Date  \n",
       "0  02/18/20 12:14  \n",
       "1  02/10/20 12:27  \n",
       "2  02/10/20 12:27  \n",
       "3  02/28/20 12:32  \n",
       "4  02/16/20 12:21  "
      ]
     },
     "execution_count": 5,
     "metadata": {},
     "output_type": "execute_result"
    }
   ],
   "source": [
    "all_data = pd.read_csv(\"2020_bakery_sales.csv\")\n",
    "all_data.head()"
   ]
  },
  {
   "cell_type": "markdown",
   "metadata": {},
   "source": [
    "### Now, we have to get the month. Notice that for the order date, there's a pattern. In this dataset, the month is always at the start. If we had the day in date column, we may have to figure out another pattern or solution. But for now, let's assume that the format of the date doesn't change with this dataset (i.e it's static). "
   ]
  },
  {
   "cell_type": "code",
   "execution_count": 6,
   "metadata": {},
   "outputs": [
    {
     "data": {
      "text/html": [
       "<div>\n",
       "<style scoped>\n",
       "    .dataframe tbody tr th:only-of-type {\n",
       "        vertical-align: middle;\n",
       "    }\n",
       "\n",
       "    .dataframe tbody tr th {\n",
       "        vertical-align: top;\n",
       "    }\n",
       "\n",
       "    .dataframe thead th {\n",
       "        text-align: right;\n",
       "    }\n",
       "</style>\n",
       "<table border=\"1\" class=\"dataframe\">\n",
       "  <thead>\n",
       "    <tr style=\"text-align: right;\">\n",
       "      <th></th>\n",
       "      <th>Order ID</th>\n",
       "      <th>Product</th>\n",
       "      <th>Quantity Ordered</th>\n",
       "      <th>Price Each</th>\n",
       "      <th>Order Date</th>\n",
       "      <th>Month</th>\n",
       "    </tr>\n",
       "  </thead>\n",
       "  <tbody>\n",
       "    <tr>\n",
       "      <th>0</th>\n",
       "      <td>19923</td>\n",
       "      <td>Dalgona Coffee (Original - Hot)</td>\n",
       "      <td>4</td>\n",
       "      <td>2.75</td>\n",
       "      <td>02/18/20 12:14</td>\n",
       "      <td>2</td>\n",
       "    </tr>\n",
       "    <tr>\n",
       "      <th>1</th>\n",
       "      <td>19924</td>\n",
       "      <td>Macaroon (Earl Grey)</td>\n",
       "      <td>1</td>\n",
       "      <td>3.00</td>\n",
       "      <td>02/10/20 12:27</td>\n",
       "      <td>2</td>\n",
       "    </tr>\n",
       "    <tr>\n",
       "      <th>2</th>\n",
       "      <td>19924</td>\n",
       "      <td>Tea (Earl Grey)</td>\n",
       "      <td>1</td>\n",
       "      <td>1.75</td>\n",
       "      <td>02/10/20 12:27</td>\n",
       "      <td>2</td>\n",
       "    </tr>\n",
       "    <tr>\n",
       "      <th>3</th>\n",
       "      <td>19925</td>\n",
       "      <td>Macaroon (Chocolate)</td>\n",
       "      <td>4</td>\n",
       "      <td>2.75</td>\n",
       "      <td>02/28/20 12:32</td>\n",
       "      <td>2</td>\n",
       "    </tr>\n",
       "    <tr>\n",
       "      <th>4</th>\n",
       "      <td>19926</td>\n",
       "      <td>Macaroon (Vanilla)</td>\n",
       "      <td>3</td>\n",
       "      <td>2.75</td>\n",
       "      <td>02/16/20 12:21</td>\n",
       "      <td>2</td>\n",
       "    </tr>\n",
       "  </tbody>\n",
       "</table>\n",
       "</div>"
      ],
      "text/plain": [
       "   Order ID                          Product  Quantity Ordered  Price Each  \\\n",
       "0     19923  Dalgona Coffee (Original - Hot)                 4        2.75   \n",
       "1     19924             Macaroon (Earl Grey)                 1        3.00   \n",
       "2     19924                  Tea (Earl Grey)                 1        1.75   \n",
       "3     19925             Macaroon (Chocolate)                 4        2.75   \n",
       "4     19926               Macaroon (Vanilla)                 3        2.75   \n",
       "\n",
       "       Order Date  Month  \n",
       "0  02/18/20 12:14      2  \n",
       "1  02/10/20 12:27      2  \n",
       "2  02/10/20 12:27      2  \n",
       "3  02/28/20 12:32      2  \n",
       "4  02/16/20 12:21      2  "
      ]
     },
     "execution_count": 6,
     "metadata": {},
     "output_type": "execute_result"
    }
   ],
   "source": [
    "all_data['Month'] = all_data['Order Date'].str[0:2]\n",
    "all_data['Month'] = all_data['Month'].astype(\"int32\") \n",
    "all_data.head()"
   ]
  },
  {
   "cell_type": "markdown",
   "metadata": {},
   "source": [
    "### Okay, so now we need to get the sales. Let's find the total sale of each time."
   ]
  },
  {
   "cell_type": "code",
   "execution_count": 7,
   "metadata": {},
   "outputs": [
    {
     "name": "stdout",
     "output_type": "stream",
     "text": [
      "         Order ID  Quantity Ordered  Price Each  Sales (CAD)\n",
      "Month                                                       \n",
      "1       154039830             14462    46957.50     69845.30\n",
      "2       202756315             12369    40749.00     60260.64\n",
      "3       427431871             18646    60981.00     90450.85\n",
      "4       299413434             10106    33818.00     49745.99\n",
      "5      1096767012             29093    95750.50    142091.85\n",
      "6       794218569             16578    55520.25     81521.59\n",
      "7      2238265211             37819   124114.50    183802.41\n",
      "8      1943768485             26588    88067.50    130368.10\n",
      "9      2472372061             29003    96889.00    142841.04\n",
      "10     1965511059             20513    68230.50    100799.39\n",
      "11     2665737503             25491    83521.25    123971.17\n",
      "12     3377041231             28779    95040.25    140912.13\n"
     ]
    }
   ],
   "source": [
    "TAX = 1.13\n",
    "\n",
    "all_data['Sales (CAD)'] = (round(all_data['Quantity Ordered'] * all_data['Price Each']) * TAX)\n",
    "all_data.head()\n",
    "\n",
    "result = all_data.groupby('Month').sum()\n",
    "print(result)"
   ]
  },
  {
   "cell_type": "code",
   "execution_count": 8,
   "metadata": {
    "scrolled": true
   },
   "outputs": [
    {
     "name": "stdout",
     "output_type": "stream",
     "text": [
      "Month with Highest Sales: July with profit of $183802.41(CAD)\n",
      "Month with Lowest Sales: April with profit of $49745.99(CAD)\n"
     ]
    }
   ],
   "source": [
    "months = ['January', 'February', 'March', 'April', 'May', 'June', 'July', 'August', 'September', 'October', 'November', 'December']\n",
    "\n",
    "# https://www.pythonforbeginners.com/basics/list-comprehensions-in-python\n",
    "\n",
    "maxMonthValue = result['Sales (CAD)'].idxmax()\n",
    "minMonthValue = result['Sales (CAD)'].idxmin()\n",
    "\n",
    "def findMonthName(monthValue):\n",
    "    for i in range(len(months) - 1):\n",
    "        if i + 1 == monthValue:\n",
    "            monthValue = months[i]\n",
    "    return monthValue\n",
    "\n",
    "maxMonthName = findMonthName(maxMonthValue)\n",
    "minMonthName = findMonthName(minMonthValue)\n",
    "maxMonthGrossEarnings = round(result.loc[maxMonthValue, 'Sales (CAD)'], 3)\n",
    "minMonthGrossEarnings = round(result.loc[minMonthValue, 'Sales (CAD)'], 3)\n",
    "\n",
    "print(\"Month with Highest Sales: \" + str(maxMonthName) + \" with profit of $\" + str(maxMonthGrossEarnings) + \"(CAD)\")\n",
    "print(\"Month with Lowest Sales: \" + str(minMonthName) + \" with profit of $\" + str(minMonthGrossEarnings) + \"(CAD)\")"
   ]
  },
  {
   "cell_type": "markdown",
   "metadata": {},
   "source": [
    "### Let's verify with a graph"
   ]
  },
  {
   "cell_type": "code",
   "execution_count": 9,
   "metadata": {},
   "outputs": [
    {
     "data": {
      "image/png": "[encoded data removed]",
      "text/plain": [
       "<Figure size 432x288 with 1 Axes>"
      ]
     },
     "metadata": {
      "needs_background": "light"
     },
     "output_type": "display_data"
    }
   ],
   "source": [
    "import matplotlib.pyplot as plt\n",
    "\n",
    "months = range(1, 13)\n",
    "\n",
    "# Make a bar chart with \n",
    "# months - x value, sum - y values (we just want Sales to be our y-axis)\n",
    "plt.bar(months, result['Sales (CAD)']) \n",
    "\n",
    "# Source: https://matplotlib.org/3.2.1/api/_as_gen/matplotlib.pyplot.xticks.html\n",
    "# make ticks on the months \n",
    "plt.xticks(months)\n",
    "\n",
    "# label \n",
    "plt.ylabel('Sales in CAD ($)')\n",
    "plt.xlabel('Month Number')\n",
    "plt.show()"
   ]
  },
  {
   "cell_type": "markdown",
   "metadata": {},
   "source": [
    "### Here, we can easily see that month of July (7) had the highest sales while the month of April (4) had the lowest sales just at a glance."
   ]
  },
  {
   "cell_type": "markdown",
   "metadata": {},
   "source": [
    "### The month of April was when lockdown was strongly enforced in Ottawa so it's possible that people too scared to go outside for safety reasons. Maybe we can research other similiar services and and see how they did to find reasons to why this happened. In May, we launched an online store and offered free local delievery for over 25 dollars and promoted very heavily in our social media. Maybe we'll do this for April of next year and make sure people know!  "
   ]
  },
  {
   "cell_type": "markdown",
   "metadata": {},
   "source": [
    "## How much gross earnings did the store make in 2020?"
   ]
  },
  {
   "cell_type": "code",
   "execution_count": 10,
   "metadata": {},
   "outputs": [
    {
     "name": "stdout",
     "output_type": "stream",
     "text": [
      "Therefore, the gross earnings for the bakery section of the store is $1316610.46(CAD)\n"
     ]
    }
   ],
   "source": [
    "grossEarnings = round(result['Sales (CAD)'].sum(), 3)\n",
    "print(\"Therefore, the gross earnings for the bakery section of the store is $\" + str(grossEarnings) + \"(CAD)\")"
   ]
  },
  {
   "cell_type": "markdown",
   "metadata": {},
   "source": [
    "## Which flavour is the most popular in the overall store?"
   ]
  },
  {
   "cell_type": "markdown",
   "metadata": {},
   "source": [
    "### Again, let's try to break down. If we look at the name of the product, we often find the flavours in most of the cases. There's a few exceptions such as \"coffee (hot)\" and \"portuguese egg tarts.\" How do we categorize this?! Are these even flavours? What is defined as a flavour in our case? Some of the flavours are also unique to the store so we can't just look for a database. Okay, another problem: the flavours don't really have a pattern in text. Some are in brackets while others are incorporated in the name. We don't want to make this overly complex. I think for our solution, we can create our array containing flavours. We can check if the string is in one of the flavours. If we're not sure, let's put it as \"misc.\""
   ]
  },
  {
   "cell_type": "code",
   "execution_count": 131,
   "metadata": {},
   "outputs": [],
   "source": [
    "flavours = ['original', 'strawberry', 'chocolate', 'matcha', 'rose', 'sakura', 'caramel', 'earl grey', 'green tea', 'lavender', 'peach', 'red bean', 'ube', 'vanilla', 'black seasame', 'mango', 'pandan Coconut', 'pistachio', 'curtard']\n",
    "flavours = [flavour.lower() for flavour in flavours]\n",
    "\n",
    "## For each row, go through the product column. Check if any element from flavours is in the substring. \n",
    "\n",
    "def checkFlavour(row):\n",
    "    for i in flavours:\n",
    "        if i in row:\n",
    "            return i\n",
    "    return \"misc\"\n",
    "        \n",
    "def checkFlavour2(row):\n",
    "    return row\n",
    "        \n",
    "# all_data['Flavour'] = checkFlavour2(all_data['Product'].str.lower())\n",
    "# all_data.head()"
   ]
  },
  {
   "cell_type": "code",
   "execution_count": 134,
   "metadata": {},
   "outputs": [],
   "source": [
    "all_data['Flavour'] = all_data.apply(lambda row: checkFlavour2(row['Flavour'].lower()), axis=1)"
   ]
  },
  {
   "cell_type": "code",
   "execution_count": 135,
   "metadata": {},
   "outputs": [
    {
     "data": {
      "text/html": [
       "<div>\n",
       "<style scoped>\n",
       "    .dataframe tbody tr th:only-of-type {\n",
       "        vertical-align: middle;\n",
       "    }\n",
       "\n",
       "    .dataframe tbody tr th {\n",
       "        vertical-align: top;\n",
       "    }\n",
       "\n",
       "    .dataframe thead th {\n",
       "        text-align: right;\n",
       "    }\n",
       "</style>\n",
       "<table border=\"1\" class=\"dataframe\">\n",
       "  <thead>\n",
       "    <tr style=\"text-align: right;\">\n",
       "      <th></th>\n",
       "      <th>Order ID</th>\n",
       "      <th>Product</th>\n",
       "      <th>Quantity Ordered</th>\n",
       "      <th>Price Each</th>\n",
       "      <th>Order Date</th>\n",
       "      <th>Month</th>\n",
       "      <th>Sales (CAD)</th>\n",
       "      <th>Flavour</th>\n",
       "    </tr>\n",
       "  </thead>\n",
       "  <tbody>\n",
       "    <tr>\n",
       "      <th>0</th>\n",
       "      <td>19923</td>\n",
       "      <td>Dalgona Coffee (Original - Hot)</td>\n",
       "      <td>4</td>\n",
       "      <td>2.75</td>\n",
       "      <td>02/18/20 12:14</td>\n",
       "      <td>2</td>\n",
       "      <td>12.43</td>\n",
       "      <td>misc</td>\n",
       "    </tr>\n",
       "    <tr>\n",
       "      <th>1</th>\n",
       "      <td>19924</td>\n",
       "      <td>Macaroon (Earl Grey)</td>\n",
       "      <td>1</td>\n",
       "      <td>3.00</td>\n",
       "      <td>02/10/20 12:27</td>\n",
       "      <td>2</td>\n",
       "      <td>3.39</td>\n",
       "      <td>misc</td>\n",
       "    </tr>\n",
       "    <tr>\n",
       "      <th>2</th>\n",
       "      <td>19924</td>\n",
       "      <td>Tea (Earl Grey)</td>\n",
       "      <td>1</td>\n",
       "      <td>1.75</td>\n",
       "      <td>02/10/20 12:27</td>\n",
       "      <td>2</td>\n",
       "      <td>2.26</td>\n",
       "      <td>misc</td>\n",
       "    </tr>\n",
       "    <tr>\n",
       "      <th>3</th>\n",
       "      <td>19925</td>\n",
       "      <td>Macaroon (Chocolate)</td>\n",
       "      <td>4</td>\n",
       "      <td>2.75</td>\n",
       "      <td>02/28/20 12:32</td>\n",
       "      <td>2</td>\n",
       "      <td>12.43</td>\n",
       "      <td>misc</td>\n",
       "    </tr>\n",
       "    <tr>\n",
       "      <th>4</th>\n",
       "      <td>19926</td>\n",
       "      <td>Macaroon (Vanilla)</td>\n",
       "      <td>3</td>\n",
       "      <td>2.75</td>\n",
       "      <td>02/16/20 12:21</td>\n",
       "      <td>2</td>\n",
       "      <td>9.04</td>\n",
       "      <td>misc</td>\n",
       "    </tr>\n",
       "  </tbody>\n",
       "</table>\n",
       "</div>"
      ],
      "text/plain": [
       "   Order ID                          Product  Quantity Ordered  Price Each  \\\n",
       "0     19923  Dalgona Coffee (Original - Hot)                 4        2.75   \n",
       "1     19924             Macaroon (Earl Grey)                 1        3.00   \n",
       "2     19924                  Tea (Earl Grey)                 1        1.75   \n",
       "3     19925             Macaroon (Chocolate)                 4        2.75   \n",
       "4     19926               Macaroon (Vanilla)                 3        2.75   \n",
       "\n",
       "       Order Date  Month  Sales (CAD) Flavour  \n",
       "0  02/18/20 12:14      2        12.43    misc  \n",
       "1  02/10/20 12:27      2         3.39    misc  \n",
       "2  02/10/20 12:27      2         2.26    misc  \n",
       "3  02/28/20 12:32      2        12.43    misc  \n",
       "4  02/16/20 12:21      2         9.04    misc  "
      ]
     },
     "execution_count": 135,
     "metadata": {},
     "output_type": "execute_result"
    }
   ],
   "source": [
    "all_data.head()"
   ]
  },
  {
   "cell_type": "code",
   "execution_count": null,
   "metadata": {},
   "outputs": [],
   "source": []
  }
 ],
 "metadata": {
  "kernelspec": {
   "display_name": "Python 3",
   "language": "python",
   "name": "python3"
  },
  "language_info": {
   "codemirror_mode": {
    "name": "ipython",
    "version": 3
   },
   "file_extension": ".py",
   "mimetype": "text/x-python",
   "name": "python",
   "nbconvert_exporter": "python",
   "pygments_lexer": "ipython3",
   "version": "3.7.6"
  }
 },
 "nbformat": 4,
 "nbformat_minor": 4
}
